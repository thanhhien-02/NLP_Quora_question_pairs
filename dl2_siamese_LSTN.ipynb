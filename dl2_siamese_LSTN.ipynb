{
  "metadata": {
    "kernelspec": {
      "display_name": "Python 3",
      "language": "python",
      "name": "python3"
    },
    "language_info": {
      "codemirror_mode": {
        "name": "ipython",
        "version": 3
      },
      "file_extension": ".py",
      "mimetype": "text/x-python",
      "name": "python",
      "nbconvert_exporter": "python",
      "pygments_lexer": "ipython3",
      "version": "3.10.12"
    },
    "papermill": {
      "default_parameters": {},
      "duration": 2977.712638,
      "end_time": "2023-09-09T19:59:40.756602",
      "environment_variables": {},
      "exception": null,
      "input_path": "__notebook__.ipynb",
      "output_path": "__notebook__.ipynb",
      "parameters": {},
      "start_time": "2023-09-09T19:10:03.043964",
      "version": "2.4.0"
    },
    "colab": {
      "provenance": []
    }
  },
  "nbformat_minor": 5,
  "nbformat": 4,
  "cells": [
    {
      "cell_type": "code",
      "source": [
        "import numpy as np\n",
        "import pandas as pd\n",
        "import tensorflow as tf\n",
        "from tensorflow.keras import layers, Model, Sequential, optimizers\n",
        "from tensorflow.keras.layers import Embedding\n",
        "from tensorflow.keras.regularizers import l2\n",
        "from tensorflow.keras.layers import Bidirectional"
      ],
      "metadata": {
        "execution": {
          "iopub.status.busy": "2023-11-29T14:42:21.367456Z",
          "iopub.execute_input": "2023-11-29T14:42:21.368226Z",
          "iopub.status.idle": "2023-11-29T14:42:21.377015Z",
          "shell.execute_reply.started": "2023-11-29T14:42:21.368185Z",
          "shell.execute_reply": "2023-11-29T14:42:21.375610Z"
        },
        "trusted": true,
        "id": "-l6NelZvpK3I"
      },
      "execution_count": null,
      "outputs": [],
      "id": "-l6NelZvpK3I"
    },
    {
      "cell_type": "code",
      "source": [
        "Quor = pd.read_csv(\"/kaggle/input/quora-question-pairs/train.csv.zip\")\n",
        "Quor.head()"
      ],
      "metadata": {
        "_cell_guid": "ad89fa4a-4e75-4917-9baf-6a73b3bb199c",
        "_uuid": "2ec9357f-0032-4cdb-98a8-be37e1928043",
        "jupyter": {
          "outputs_hidden": false
        },
        "papermill": {
          "duration": 1.731911,
          "end_time": "2023-09-09T19:10:14.531498",
          "exception": false,
          "start_time": "2023-09-09T19:10:12.799587",
          "status": "completed"
        },
        "tags": [],
        "execution": {
          "iopub.status.busy": "2023-11-29T14:31:00.790054Z",
          "iopub.execute_input": "2023-11-29T14:31:00.790556Z",
          "iopub.status.idle": "2023-11-29T14:31:03.317076Z",
          "shell.execute_reply.started": "2023-11-29T14:31:00.790524Z",
          "shell.execute_reply": "2023-11-29T14:31:03.314874Z"
        },
        "trusted": true,
        "id": "Z7Pus5V0pK3J",
        "outputId": "9e862d2c-63c3-4bc6-929b-5b16d0983134"
      },
      "execution_count": null,
      "outputs": [
        {
          "execution_count": 3,
          "output_type": "execute_result",
          "data": {
            "text/plain": "   id  qid1  qid2                                          question1  \\\n0   0     1     2  What is the step by step guide to invest in sh...   \n1   1     3     4  What is the story of Kohinoor (Koh-i-Noor) Dia...   \n2   2     5     6  How can I increase the speed of my internet co...   \n3   3     7     8  Why am I mentally very lonely? How can I solve...   \n4   4     9    10  Which one dissolve in water quikly sugar, salt...   \n\n                                           question2  is_duplicate  \n0  What is the step by step guide to invest in sh...             0  \n1  What would happen if the Indian government sto...             0  \n2  How can Internet speed be increased by hacking...             0  \n3  Find the remainder when [math]23^{24}[/math] i...             0  \n4            Which fish would survive in salt water?             0  ",
            "text/html": "<div>\n<style scoped>\n    .dataframe tbody tr th:only-of-type {\n        vertical-align: middle;\n    }\n\n    .dataframe tbody tr th {\n        vertical-align: top;\n    }\n\n    .dataframe thead th {\n        text-align: right;\n    }\n</style>\n<table border=\"1\" class=\"dataframe\">\n  <thead>\n    <tr style=\"text-align: right;\">\n      <th></th>\n      <th>id</th>\n      <th>qid1</th>\n      <th>qid2</th>\n      <th>question1</th>\n      <th>question2</th>\n      <th>is_duplicate</th>\n    </tr>\n  </thead>\n  <tbody>\n    <tr>\n      <th>0</th>\n      <td>0</td>\n      <td>1</td>\n      <td>2</td>\n      <td>What is the step by step guide to invest in sh...</td>\n      <td>What is the step by step guide to invest in sh...</td>\n      <td>0</td>\n    </tr>\n    <tr>\n      <th>1</th>\n      <td>1</td>\n      <td>3</td>\n      <td>4</td>\n      <td>What is the story of Kohinoor (Koh-i-Noor) Dia...</td>\n      <td>What would happen if the Indian government sto...</td>\n      <td>0</td>\n    </tr>\n    <tr>\n      <th>2</th>\n      <td>2</td>\n      <td>5</td>\n      <td>6</td>\n      <td>How can I increase the speed of my internet co...</td>\n      <td>How can Internet speed be increased by hacking...</td>\n      <td>0</td>\n    </tr>\n    <tr>\n      <th>3</th>\n      <td>3</td>\n      <td>7</td>\n      <td>8</td>\n      <td>Why am I mentally very lonely? How can I solve...</td>\n      <td>Find the remainder when [math]23^{24}[/math] i...</td>\n      <td>0</td>\n    </tr>\n    <tr>\n      <th>4</th>\n      <td>4</td>\n      <td>9</td>\n      <td>10</td>\n      <td>Which one dissolve in water quikly sugar, salt...</td>\n      <td>Which fish would survive in salt water?</td>\n      <td>0</td>\n    </tr>\n  </tbody>\n</table>\n</div>"
          },
          "metadata": {}
        }
      ],
      "id": "Z7Pus5V0pK3J"
    },
    {
      "cell_type": "code",
      "source": [
        "# Check for missing values\n",
        "missing_values = Quor.isnull().sum()\n",
        "# Handle missing values\n",
        "Quor = Quor.dropna()"
      ],
      "metadata": {
        "_cell_guid": "41b0f1a4-2d3c-4eb9-984b-1cd99bab416e",
        "_uuid": "eb1d04fb-5d71-48a7-9846-665255d70023",
        "jupyter": {
          "outputs_hidden": false
        },
        "papermill": {
          "duration": 0.25441,
          "end_time": "2023-09-09T19:10:14.799908",
          "exception": false,
          "start_time": "2023-09-09T19:10:14.545498",
          "status": "completed"
        },
        "tags": [],
        "execution": {
          "iopub.status.busy": "2023-11-29T14:31:35.914787Z",
          "iopub.execute_input": "2023-11-29T14:31:35.915187Z",
          "iopub.status.idle": "2023-11-29T14:31:36.159111Z",
          "shell.execute_reply.started": "2023-11-29T14:31:35.915156Z",
          "shell.execute_reply": "2023-11-29T14:31:36.157756Z"
        },
        "trusted": true,
        "id": "zfkJDz5rpK3J"
      },
      "execution_count": null,
      "outputs": [],
      "id": "zfkJDz5rpK3J"
    },
    {
      "cell_type": "code",
      "source": [
        "columns_to_drop = ['id', 'qid1', 'qid2']\n",
        "Quor = Quor.drop(columns=columns_to_drop, axis=1)\n",
        "Quor.head()"
      ],
      "metadata": {
        "_cell_guid": "e3b07c39-4e70-49d5-9ba8-4a85256ba8ba",
        "_uuid": "c4a1d0cf-53df-431c-9ad9-241e1e3f6a35",
        "jupyter": {
          "outputs_hidden": false
        },
        "papermill": {
          "duration": 0.051624,
          "end_time": "2023-09-09T19:10:15.849575",
          "exception": false,
          "start_time": "2023-09-09T19:10:15.797951",
          "status": "completed"
        },
        "tags": [],
        "execution": {
          "iopub.status.busy": "2023-11-29T14:31:43.087584Z",
          "iopub.execute_input": "2023-11-29T14:31:43.088016Z",
          "iopub.status.idle": "2023-11-29T14:31:43.131284Z",
          "shell.execute_reply.started": "2023-11-29T14:31:43.087968Z",
          "shell.execute_reply": "2023-11-29T14:31:43.130386Z"
        },
        "trusted": true,
        "id": "4W3aPx9ypK3J",
        "outputId": "a38052db-52fd-475e-fc32-3470961f064c"
      },
      "execution_count": null,
      "outputs": [
        {
          "execution_count": 5,
          "output_type": "execute_result",
          "data": {
            "text/plain": "                                           question1  \\\n0  What is the step by step guide to invest in sh...   \n1  What is the story of Kohinoor (Koh-i-Noor) Dia...   \n2  How can I increase the speed of my internet co...   \n3  Why am I mentally very lonely? How can I solve...   \n4  Which one dissolve in water quikly sugar, salt...   \n\n                                           question2  is_duplicate  \n0  What is the step by step guide to invest in sh...             0  \n1  What would happen if the Indian government sto...             0  \n2  How can Internet speed be increased by hacking...             0  \n3  Find the remainder when [math]23^{24}[/math] i...             0  \n4            Which fish would survive in salt water?             0  ",
            "text/html": "<div>\n<style scoped>\n    .dataframe tbody tr th:only-of-type {\n        vertical-align: middle;\n    }\n\n    .dataframe tbody tr th {\n        vertical-align: top;\n    }\n\n    .dataframe thead th {\n        text-align: right;\n    }\n</style>\n<table border=\"1\" class=\"dataframe\">\n  <thead>\n    <tr style=\"text-align: right;\">\n      <th></th>\n      <th>question1</th>\n      <th>question2</th>\n      <th>is_duplicate</th>\n    </tr>\n  </thead>\n  <tbody>\n    <tr>\n      <th>0</th>\n      <td>What is the step by step guide to invest in sh...</td>\n      <td>What is the step by step guide to invest in sh...</td>\n      <td>0</td>\n    </tr>\n    <tr>\n      <th>1</th>\n      <td>What is the story of Kohinoor (Koh-i-Noor) Dia...</td>\n      <td>What would happen if the Indian government sto...</td>\n      <td>0</td>\n    </tr>\n    <tr>\n      <th>2</th>\n      <td>How can I increase the speed of my internet co...</td>\n      <td>How can Internet speed be increased by hacking...</td>\n      <td>0</td>\n    </tr>\n    <tr>\n      <th>3</th>\n      <td>Why am I mentally very lonely? How can I solve...</td>\n      <td>Find the remainder when [math]23^{24}[/math] i...</td>\n      <td>0</td>\n    </tr>\n    <tr>\n      <th>4</th>\n      <td>Which one dissolve in water quikly sugar, salt...</td>\n      <td>Which fish would survive in salt water?</td>\n      <td>0</td>\n    </tr>\n  </tbody>\n</table>\n</div>"
          },
          "metadata": {}
        }
      ],
      "id": "4W3aPx9ypK3J"
    },
    {
      "cell_type": "code",
      "source": [
        "from sklearn.model_selection import train_test_split\n",
        "\n",
        "X = Quor.drop(columns=['is_duplicate'])\n",
        "y = Quor['is_duplicate']\n",
        "X_train, X_val, y_train, y_val = train_test_split(X, y, test_size=0.2, random_state=42)"
      ],
      "metadata": {
        "_cell_guid": "1f995659-4127-4221-83eb-16bc466d2d55",
        "_uuid": "db3d8ed7-6674-4661-8e66-8037a32ab093",
        "jupyter": {
          "outputs_hidden": false
        },
        "papermill": {
          "duration": 1.058291,
          "end_time": "2023-09-09T19:10:16.922386",
          "exception": false,
          "start_time": "2023-09-09T19:10:15.864095",
          "status": "completed"
        },
        "tags": [],
        "execution": {
          "iopub.status.busy": "2023-11-29T14:32:19.026235Z",
          "iopub.execute_input": "2023-11-29T14:32:19.026643Z",
          "iopub.status.idle": "2023-11-29T14:32:19.889136Z",
          "shell.execute_reply.started": "2023-11-29T14:32:19.026610Z",
          "shell.execute_reply": "2023-11-29T14:32:19.888070Z"
        },
        "trusted": true,
        "id": "6mkkEjQHpK3K"
      },
      "execution_count": null,
      "outputs": [],
      "id": "6mkkEjQHpK3K"
    },
    {
      "cell_type": "code",
      "source": [
        "# Remove the punctuation from the questions and apply some filters to the data\n",
        "import string\n",
        "import re\n",
        "from multiprocessing import Pool, cpu_count\n",
        "\n",
        "def remove_punctuation(text):\n",
        "    translator = str.maketrans('', '', string.punctuation)\n",
        "    return text.translate(translator)\n",
        "\n",
        "def convert_to_lower(text):\n",
        "    return text.lower()\n",
        "\n",
        "def remove_contractions(text):\n",
        "    # Define a list of common contractions and their expanded forms\n",
        "    contractions = {\n",
        "        \"don't\": \"do not\",\n",
        "        \"won't\": \"will not\",\n",
        "        \"can't\": \"cannot\",\n",
        "        # Add more contractions and their expansions as needed\n",
        "    }\n",
        "    for contraction, expansion in contractions.items():\n",
        "        text = text.replace(contraction, expansion)\n",
        "    return text\n",
        "\n",
        "def replace_currency_symbols(text):\n",
        "    # Define a dictionary mapping currency symbols to currency names\n",
        "    currency_symbols = {\n",
        "        \"$\": \"USD\",\n",
        "        \"€\": \"EUR\",\n",
        "        \"£\": \"GBP\",\n",
        "\n",
        "    }\n",
        "    for symbol, currency_name in currency_symbols.items():\n",
        "        text = text.replace(symbol, currency_name)\n",
        "    return text\n",
        "\n",
        "def remove_hyperlinks(text):\n",
        "    # Remove URLs and hyperlinks using regular expression\n",
        "    text = re.sub(r'http\\S+', '', text)\n",
        "    return text\n",
        "\n",
        "def remove_html_tags(text):\n",
        "    # Remove HTML tags using regular expression\n",
        "    text = re.sub(r'<.*?>', '', text)\n",
        "    return text\n",
        "\n",
        "def process_column(column):\n",
        "    with Pool(cpu_count()) as pool:\n",
        "        processed_column = pool.map(remove_punctuation, column)\n",
        "        processed_column = pool.map(convert_to_lower, processed_column)\n",
        "        processed_column = pool.map(remove_contractions, processed_column)\n",
        "        processed_column = pool.map(replace_currency_symbols, processed_column)\n",
        "        processed_column = pool.map(remove_hyperlinks, processed_column)\n",
        "        processed_column = pool.map(remove_html_tags, processed_column)\n",
        "    return processed_column"
      ],
      "metadata": {
        "_cell_guid": "9fc61daa-b8c0-4695-85b5-095360419fbd",
        "_uuid": "38c0beea-ebf4-4848-b42f-8b1c4c1294a7",
        "jupyter": {
          "outputs_hidden": false
        },
        "papermill": {
          "duration": 0.028464,
          "end_time": "2023-09-09T19:10:16.966540",
          "exception": false,
          "start_time": "2023-09-09T19:10:16.938076",
          "status": "completed"
        },
        "tags": [],
        "execution": {
          "iopub.status.busy": "2023-11-29T14:32:23.097240Z",
          "iopub.execute_input": "2023-11-29T14:32:23.097616Z",
          "iopub.status.idle": "2023-11-29T14:32:23.111309Z",
          "shell.execute_reply.started": "2023-11-29T14:32:23.097586Z",
          "shell.execute_reply": "2023-11-29T14:32:23.110041Z"
        },
        "trusted": true,
        "id": "9yFR-14RpK3K"
      },
      "execution_count": null,
      "outputs": [],
      "id": "9yFR-14RpK3K"
    },
    {
      "cell_type": "code",
      "source": [
        "X_train['question1'] = process_column(X_train['question1'])\n",
        "X_train['question2'] = process_column(X_train['question2'])"
      ],
      "metadata": {
        "_cell_guid": "21180d51-a4d3-4017-9810-6f35613af17a",
        "_uuid": "6c76de71-fcc5-4b40-bae5-ce8bc507f02e",
        "jupyter": {
          "outputs_hidden": false
        },
        "papermill": {
          "duration": 8.35916,
          "end_time": "2023-09-09T19:10:25.339894",
          "exception": false,
          "start_time": "2023-09-09T19:10:16.980734",
          "status": "completed"
        },
        "tags": [],
        "execution": {
          "iopub.status.busy": "2023-11-29T14:32:25.048127Z",
          "iopub.execute_input": "2023-11-29T14:32:25.048524Z",
          "iopub.status.idle": "2023-11-29T14:32:30.422347Z",
          "shell.execute_reply.started": "2023-11-29T14:32:25.048484Z",
          "shell.execute_reply": "2023-11-29T14:32:30.420781Z"
        },
        "trusted": true,
        "id": "eII_TFqfpK3K"
      },
      "execution_count": null,
      "outputs": [],
      "id": "eII_TFqfpK3K"
    },
    {
      "cell_type": "code",
      "source": [
        "X_train.head()"
      ],
      "metadata": {
        "_cell_guid": "e16248f6-777b-4507-99c2-82b7f0414619",
        "_uuid": "955833b3-b8f9-4108-a7f0-c65b3d773a03",
        "jupyter": {
          "outputs_hidden": false
        },
        "papermill": {
          "duration": 0.029595,
          "end_time": "2023-09-09T19:10:25.384339",
          "exception": false,
          "start_time": "2023-09-09T19:10:25.354744",
          "status": "completed"
        },
        "tags": [],
        "execution": {
          "iopub.status.busy": "2023-11-29T14:32:33.550169Z",
          "iopub.execute_input": "2023-11-29T14:32:33.550625Z",
          "iopub.status.idle": "2023-11-29T14:32:33.562930Z",
          "shell.execute_reply.started": "2023-11-29T14:32:33.550584Z",
          "shell.execute_reply": "2023-11-29T14:32:33.562133Z"
        },
        "trusted": true,
        "id": "WCQU3SMIpK3K",
        "outputId": "86bf359e-7180-47a4-9660-c6adc65b7730"
      },
      "execution_count": null,
      "outputs": [
        {
          "execution_count": 9,
          "output_type": "execute_result",
          "data": {
            "text/plain": "                                                question1  \\\n174950  india what are job options and future options ...   \n119443                which is worlds best romantic movie   \n252943           which is best place to live in hyderabad   \n13551        what should i do to be an athlete in a month   \n274898              how do you learn to code on wordpress   \n\n                                                question2  \n174950  jobs and careers in india i am currently in my...  \n119443        what is the best romantic movie of all time  \n252943    which is best place to live hyderabad or mumbai  \n13551                            what is shop act licence  \n274898  in how much time can i learn to code a wordpre...  ",
            "text/html": "<div>\n<style scoped>\n    .dataframe tbody tr th:only-of-type {\n        vertical-align: middle;\n    }\n\n    .dataframe tbody tr th {\n        vertical-align: top;\n    }\n\n    .dataframe thead th {\n        text-align: right;\n    }\n</style>\n<table border=\"1\" class=\"dataframe\">\n  <thead>\n    <tr style=\"text-align: right;\">\n      <th></th>\n      <th>question1</th>\n      <th>question2</th>\n    </tr>\n  </thead>\n  <tbody>\n    <tr>\n      <th>174950</th>\n      <td>india what are job options and future options ...</td>\n      <td>jobs and careers in india i am currently in my...</td>\n    </tr>\n    <tr>\n      <th>119443</th>\n      <td>which is worlds best romantic movie</td>\n      <td>what is the best romantic movie of all time</td>\n    </tr>\n    <tr>\n      <th>252943</th>\n      <td>which is best place to live in hyderabad</td>\n      <td>which is best place to live hyderabad or mumbai</td>\n    </tr>\n    <tr>\n      <th>13551</th>\n      <td>what should i do to be an athlete in a month</td>\n      <td>what is shop act licence</td>\n    </tr>\n    <tr>\n      <th>274898</th>\n      <td>how do you learn to code on wordpress</td>\n      <td>in how much time can i learn to code a wordpre...</td>\n    </tr>\n  </tbody>\n</table>\n</div>"
          },
          "metadata": {}
        }
      ],
      "id": "WCQU3SMIpK3K"
    },
    {
      "cell_type": "markdown",
      "source": [
        "# Tokenization and Embedding"
      ],
      "metadata": {
        "_cell_guid": "aa77c2fb-5bab-44f0-9734-1ce0e03052f0",
        "_uuid": "1cd67ce6-0836-4e7e-a880-1f3cc4872042",
        "papermill": {
          "duration": 0.014123,
          "end_time": "2023-09-09T19:10:25.413015",
          "exception": false,
          "start_time": "2023-09-09T19:10:25.398892",
          "status": "completed"
        },
        "tags": [],
        "id": "CiCArCvkpK3K"
      },
      "id": "CiCArCvkpK3K"
    },
    {
      "cell_type": "code",
      "source": [
        "def load_glove_embeddings(file_path):\n",
        "    embeddings_index = {}\n",
        "    f = open(file_path)\n",
        "    for line in f:\n",
        "        values = line.split()\n",
        "        word = values[0]\n",
        "        coefs = np.asarray(values[1:], dtype='float32')\n",
        "        embeddings_index[word] = coefs\n",
        "    f.close()\n",
        "    print('Found %s word vectors.' % len(embeddings_index))\n",
        "    return embeddings_index\n",
        "\n",
        "glove_file = '/kaggle/input/glove-6b/glove.6B.100d.txt'\n",
        "glove_embeddings = load_glove_embeddings(glove_file)"
      ],
      "metadata": {
        "_cell_guid": "40538272-fe2a-4c7c-ac73-282bc852a45a",
        "_uuid": "477a05d0-7c07-4db5-bfbb-3ebc031bd475",
        "jupyter": {
          "outputs_hidden": false
        },
        "papermill": {
          "duration": 13.439345,
          "end_time": "2023-09-09T19:10:38.895891",
          "exception": false,
          "start_time": "2023-09-09T19:10:25.456546",
          "status": "completed"
        },
        "tags": [],
        "execution": {
          "iopub.status.busy": "2023-11-29T14:41:07.902445Z",
          "iopub.execute_input": "2023-11-29T14:41:07.902939Z",
          "iopub.status.idle": "2023-11-29T14:41:22.591174Z",
          "shell.execute_reply.started": "2023-11-29T14:41:07.902887Z",
          "shell.execute_reply": "2023-11-29T14:41:22.589952Z"
        },
        "trusted": true,
        "id": "Q8D8pj1apK3L",
        "outputId": "a0f985c2-9fb7-46a2-d7e7-7d3bdb8f44c3"
      },
      "execution_count": null,
      "outputs": [
        {
          "name": "stdout",
          "text": "Found 400000 word vectors.\n",
          "output_type": "stream"
        }
      ],
      "id": "Q8D8pj1apK3L"
    },
    {
      "cell_type": "code",
      "source": [
        "from tensorflow.keras.preprocessing.text import Tokenizer\n",
        "from tensorflow.keras.preprocessing.sequence import pad_sequences\n",
        "\n",
        "tokenizer = Tokenizer()\n",
        "texts = X_train['question1'].values + X_train['question2'].values\n",
        "tokenizer.fit_on_texts(texts)\n",
        "seq_q1 = tokenizer.texts_to_sequences(X_train['question1'].values)\n",
        "seq_q2 = tokenizer.texts_to_sequences(X_train['question2'].values)\n",
        "vocab = tokenizer.word_index"
      ],
      "metadata": {
        "_cell_guid": "4ef7392a-a606-4d46-8d50-98cdc65db08d",
        "_uuid": "aed6e65f-995c-4cdb-8d38-ae22370209a3",
        "jupyter": {
          "outputs_hidden": false
        },
        "papermill": {
          "duration": 26.968225,
          "end_time": "2023-09-09T19:11:05.879044",
          "exception": false,
          "start_time": "2023-09-09T19:10:38.910819",
          "status": "completed"
        },
        "tags": [],
        "execution": {
          "iopub.status.busy": "2023-11-29T14:41:27.286155Z",
          "iopub.execute_input": "2023-11-29T14:41:27.286597Z",
          "iopub.status.idle": "2023-11-29T14:42:06.198465Z",
          "shell.execute_reply.started": "2023-11-29T14:41:27.286558Z",
          "shell.execute_reply": "2023-11-29T14:42:06.197432Z"
        },
        "trusted": true,
        "id": "Drr3KzbgpK3L"
      },
      "execution_count": null,
      "outputs": [],
      "id": "Drr3KzbgpK3L"
    },
    {
      "cell_type": "code",
      "source": [
        "max_size_col1 = max(len(lst) for lst in seq_q1)\n",
        "max_size_col2 = max(len(lst) for lst in seq_q2)\n",
        "max_seq_length = max(max_size_col1, max_size_col2)\n",
        "max_seq_length"
      ],
      "metadata": {
        "_cell_guid": "7f78b6c9-32ae-4065-8986-021ff22de7d7",
        "_uuid": "0e7aee46-ee59-4b56-8544-456285304ce6",
        "jupyter": {
          "outputs_hidden": false
        },
        "papermill": {
          "duration": 0.085841,
          "end_time": "2023-09-09T19:11:05.980114",
          "exception": false,
          "start_time": "2023-09-09T19:11:05.894273",
          "status": "completed"
        },
        "tags": [],
        "execution": {
          "iopub.status.busy": "2023-11-29T14:42:46.163182Z",
          "iopub.execute_input": "2023-11-29T14:42:46.163615Z",
          "iopub.status.idle": "2023-11-29T14:42:46.242391Z",
          "shell.execute_reply.started": "2023-11-29T14:42:46.163579Z",
          "shell.execute_reply": "2023-11-29T14:42:46.241549Z"
        },
        "trusted": true,
        "id": "lPHk3fs2pK3M",
        "outputId": "5b4a690a-ad62-407a-8bd7-5e8307c652ed"
      },
      "execution_count": null,
      "outputs": [
        {
          "execution_count": 14,
          "output_type": "execute_result",
          "data": {
            "text/plain": "237"
          },
          "metadata": {}
        }
      ],
      "id": "lPHk3fs2pK3M"
    },
    {
      "cell_type": "code",
      "source": [
        "seq_q1 = pad_sequences(seq_q1, maxlen = max_seq_length)\n",
        "seq_q2 = pad_sequences(seq_q2, maxlen = max_seq_length)"
      ],
      "metadata": {
        "_cell_guid": "7376227c-2f6b-4203-8858-562b89459f7c",
        "_uuid": "4bbc23ab-266d-430d-9c4a-6c06e9c2e83b",
        "jupyter": {
          "outputs_hidden": false
        },
        "papermill": {
          "duration": 3.064323,
          "end_time": "2023-09-09T19:11:09.059169",
          "exception": false,
          "start_time": "2023-09-09T19:11:05.994846",
          "status": "completed"
        },
        "tags": [],
        "execution": {
          "iopub.status.busy": "2023-11-29T14:42:50.867092Z",
          "iopub.execute_input": "2023-11-29T14:42:50.867468Z",
          "iopub.status.idle": "2023-11-29T14:42:54.524338Z",
          "shell.execute_reply.started": "2023-11-29T14:42:50.867439Z",
          "shell.execute_reply": "2023-11-29T14:42:54.523172Z"
        },
        "trusted": true,
        "id": "-eo5q7ASpK3M"
      },
      "execution_count": null,
      "outputs": [],
      "id": "-eo5q7ASpK3M"
    },
    {
      "cell_type": "code",
      "source": [
        "seq_q1[0].shape"
      ],
      "metadata": {
        "_cell_guid": "e060bbe7-44a8-42dd-abe8-248eb3ff7d5c",
        "_uuid": "dc30e4ac-abfc-45cf-9f4e-faddb9864ac1",
        "jupyter": {
          "outputs_hidden": false
        },
        "papermill": {
          "duration": 0.02484,
          "end_time": "2023-09-09T19:11:09.099437",
          "exception": false,
          "start_time": "2023-09-09T19:11:09.074597",
          "status": "completed"
        },
        "tags": [],
        "execution": {
          "iopub.status.busy": "2023-11-29T14:42:56.506672Z",
          "iopub.execute_input": "2023-11-29T14:42:56.507100Z",
          "iopub.status.idle": "2023-11-29T14:42:56.514344Z",
          "shell.execute_reply.started": "2023-11-29T14:42:56.507067Z",
          "shell.execute_reply": "2023-11-29T14:42:56.512574Z"
        },
        "trusted": true,
        "id": "vsxBXm0tpK3M",
        "outputId": "40fb9e23-c116-49bf-bed0-cd2696f1c482"
      },
      "execution_count": null,
      "outputs": [
        {
          "execution_count": 16,
          "output_type": "execute_result",
          "data": {
            "text/plain": "(237,)"
          },
          "metadata": {}
        }
      ],
      "id": "vsxBXm0tpK3M"
    },
    {
      "cell_type": "code",
      "source": [
        "number_of_words = len(vocab)\n",
        "number_of_words"
      ],
      "metadata": {
        "_cell_guid": "f26239e0-bd91-49cf-b54c-a094ce772bba",
        "_uuid": "c779fa87-69e1-41b0-b231-078105c5531e",
        "jupyter": {
          "outputs_hidden": false
        },
        "papermill": {
          "duration": 0.023831,
          "end_time": "2023-09-09T19:11:09.138020",
          "exception": false,
          "start_time": "2023-09-09T19:11:09.114189",
          "status": "completed"
        },
        "tags": [],
        "execution": {
          "iopub.status.busy": "2023-11-29T14:42:57.612691Z",
          "iopub.execute_input": "2023-11-29T14:42:57.613540Z",
          "iopub.status.idle": "2023-11-29T14:42:57.619880Z",
          "shell.execute_reply.started": "2023-11-29T14:42:57.613496Z",
          "shell.execute_reply": "2023-11-29T14:42:57.618977Z"
        },
        "trusted": true,
        "id": "9lNuOeLtpK3M",
        "outputId": "49f9e6d9-107c-43df-f826-5c0f59744988"
      },
      "execution_count": null,
      "outputs": [
        {
          "execution_count": 17,
          "output_type": "execute_result",
          "data": {
            "text/plain": "180505"
          },
          "metadata": {}
        }
      ],
      "id": "9lNuOeLtpK3M"
    },
    {
      "cell_type": "code",
      "source": [
        "def create_embedding_matrix(word_index, embeddings_index, embedding_dim):\n",
        "    embedding_matrix = np.zeros((len(word_index) + 1, embedding_dim))\n",
        "    for word, i in word_index.items():\n",
        "        embedding_vector = embeddings_index.get(word)\n",
        "        if embedding_vector is not None:\n",
        "            # words not found in embedding index will be all-zeros.\n",
        "            embedding_matrix[i] = embedding_vector\n",
        "    return embedding_matrix\n",
        "\n",
        "embedding_dim = 100\n",
        "embedding_matrix = create_embedding_matrix(vocab, glove_embeddings, embedding_dim)\n",
        "embedding_matrix.shape"
      ],
      "metadata": {
        "_cell_guid": "7f4f6bc9-4a3f-4012-a681-862228ec0222",
        "_uuid": "49b516b2-1bc4-45b9-b63b-b5f8cded04d3",
        "jupyter": {
          "outputs_hidden": false
        },
        "papermill": {
          "duration": 0.224906,
          "end_time": "2023-09-09T19:11:09.378202",
          "exception": false,
          "start_time": "2023-09-09T19:11:09.153296",
          "status": "completed"
        },
        "tags": [],
        "execution": {
          "iopub.status.busy": "2023-11-29T14:43:11.803279Z",
          "iopub.execute_input": "2023-11-29T14:43:11.803675Z",
          "iopub.status.idle": "2023-11-29T14:43:12.101935Z",
          "shell.execute_reply.started": "2023-11-29T14:43:11.803644Z",
          "shell.execute_reply": "2023-11-29T14:43:12.100726Z"
        },
        "trusted": true,
        "id": "wePPCTEmpK3M",
        "outputId": "5d00ec01-8e23-4633-f9f7-3b1941652038"
      },
      "execution_count": null,
      "outputs": [
        {
          "execution_count": 19,
          "output_type": "execute_result",
          "data": {
            "text/plain": "(180506, 100)"
          },
          "metadata": {}
        }
      ],
      "id": "wePPCTEmpK3M"
    },
    {
      "cell_type": "code",
      "source": [
        "embedding_matrix[1]"
      ],
      "metadata": {
        "_cell_guid": "5f026d32-341a-4eb1-89ed-7225af7391f8",
        "_uuid": "8f399951-1e0c-46a5-b4c5-44d6e948ca39",
        "jupyter": {
          "outputs_hidden": false
        },
        "papermill": {
          "duration": 0.025171,
          "end_time": "2023-09-09T19:11:09.458984",
          "exception": false,
          "start_time": "2023-09-09T19:11:09.433813",
          "status": "completed"
        },
        "tags": [],
        "execution": {
          "iopub.status.busy": "2023-11-29T14:43:31.173198Z",
          "iopub.execute_input": "2023-11-29T14:43:31.173605Z",
          "iopub.status.idle": "2023-11-29T14:43:31.181706Z",
          "shell.execute_reply.started": "2023-11-29T14:43:31.173570Z",
          "shell.execute_reply": "2023-11-29T14:43:31.180480Z"
        },
        "trusted": true,
        "id": "pBc6kzO1pK3M",
        "outputId": "1c014bef-e17a-4db4-ee5c-a04e92420fd5"
      },
      "execution_count": null,
      "outputs": [
        {
          "execution_count": 22,
          "output_type": "execute_result",
          "data": {
            "text/plain": "array([-0.038194  , -0.24487001,  0.72812003, -0.39961001,  0.083172  ,\n        0.043953  , -0.39140999,  0.3344    , -0.57545   ,  0.087459  ,\n        0.28786999, -0.06731   ,  0.30906001, -0.26383999, -0.13231   ,\n       -0.20757   ,  0.33395001, -0.33848   , -0.31742999, -0.48335999,\n        0.1464    , -0.37303999,  0.34577   ,  0.052041  ,  0.44946   ,\n       -0.46970999,  0.02628   , -0.54154998, -0.15518001, -0.14106999,\n       -0.039722  ,  0.28277001,  0.14393   ,  0.23464   , -0.31020999,\n        0.086173  ,  0.20397   ,  0.52623999,  0.17163999, -0.082378  ,\n       -0.71787   , -0.41531   ,  0.20334999, -0.12763   ,  0.41367   ,\n        0.55186999,  0.57907999, -0.33476999, -0.36559001, -0.54856998,\n       -0.062892  ,  0.26583999,  0.30204999,  0.99774998, -0.80480999,\n       -3.0243001 ,  0.01254   , -0.36941999,  2.21670008,  0.72201002,\n       -0.24978   ,  0.92136002,  0.034514  ,  0.46744999,  1.10790002,\n       -0.19358   , -0.074575  ,  0.23353   , -0.052062  , -0.22044   ,\n        0.057162  , -0.15806   , -0.30798   , -0.41624999,  0.37972   ,\n        0.15006   , -0.53211999, -0.20550001, -1.25259995,  0.071624  ,\n        0.70564997,  0.49744001, -0.42063001,  0.26148   , -1.53799999,\n       -0.30223   , -0.073438  , -0.28312001,  0.37103999, -0.25217   ,\n        0.016215  , -0.017099  , -0.38984001,  0.87423998, -0.72569001,\n       -0.51058   , -0.52028   , -0.1459    ,  0.82779998,  0.27061999])"
          },
          "metadata": {}
        }
      ],
      "id": "pBc6kzO1pK3M"
    },
    {
      "cell_type": "markdown",
      "source": [
        "# Model"
      ],
      "metadata": {
        "_cell_guid": "826d9e55-01c2-405b-8148-c19df5fc52cc",
        "_uuid": "d7805c76-7203-410a-a3a4-1ee625240070",
        "papermill": {
          "duration": 0.01527,
          "end_time": "2023-09-09T19:11:09.489387",
          "exception": false,
          "start_time": "2023-09-09T19:11:09.474117",
          "status": "completed"
        },
        "tags": [],
        "id": "XxuccCutpK3N"
      },
      "id": "XxuccCutpK3N"
    },
    {
      "cell_type": "code",
      "source": [
        "embedding_dim = 100\n",
        "number_of_words+=1"
      ],
      "metadata": {
        "_cell_guid": "f0b8a219-a097-46d5-90f6-96071d660347",
        "_uuid": "b1051e98-8be6-481f-a687-845cc60c5428",
        "jupyter": {
          "outputs_hidden": false
        },
        "papermill": {
          "duration": 0.022112,
          "end_time": "2023-09-09T19:11:09.526709",
          "exception": false,
          "start_time": "2023-09-09T19:11:09.504597",
          "status": "completed"
        },
        "tags": [],
        "execution": {
          "iopub.status.busy": "2023-11-29T14:43:40.476320Z",
          "iopub.execute_input": "2023-11-29T14:43:40.476707Z",
          "iopub.status.idle": "2023-11-29T14:43:40.481948Z",
          "shell.execute_reply.started": "2023-11-29T14:43:40.476677Z",
          "shell.execute_reply": "2023-11-29T14:43:40.481002Z"
        },
        "trusted": true,
        "id": "CVKaHgplpK3N"
      },
      "execution_count": null,
      "outputs": [],
      "id": "CVKaHgplpK3N"
    },
    {
      "cell_type": "code",
      "source": [
        "def siamese_lstm_network(max_seq_length, number_of_words, embedding_dim, embedding_matrix):\n",
        "\n",
        "    inputA = layers.Input(shape=max_seq_length, name='input_A')\n",
        "    inputB = layers.Input(shape=max_seq_length, name='input_B')\n",
        "\n",
        "    embedding_layer = Embedding(\n",
        "                    number_of_words,\n",
        "                    embedding_dim,\n",
        "                    input_length= max_seq_length,\n",
        "                    weights=[embedding_matrix],\n",
        "                    trainable=False\n",
        "                )\n",
        "    embedded_sequences_q1 = embedding_layer(inputA)\n",
        "    embedded_sequences_q2 = embedding_layer(inputB)\n",
        "    lstm_layer1 = Bidirectional(layers.LSTM(64, return_sequences=True))\n",
        "    lstm_output_A1 = lstm_layer1(embedded_sequences_q1)\n",
        "    lstm_output_B1 = lstm_layer1(embedded_sequences_q2)\n",
        "\n",
        "    lstm_layer2 = Bidirectional(layers.LSTM(64, return_sequences=True))\n",
        "    lstm_output_A2 = lstm_layer2(lstm_output_A1)\n",
        "    lstm_output_B2 = lstm_layer2(lstm_output_B1)\n",
        "\n",
        "\n",
        "    merged_features = layers.Concatenate()([lstm_output_A2, lstm_output_B2])\n",
        "    lstm_pooled = layers.GlobalAveragePooling1D()(merged_features)\n",
        "    dense_layer = layers.Dense(512, activation='relu')(lstm_pooled)\n",
        "    output_layer = layers.Dense(1, activation='sigmoid')(dense_layer)\n",
        "\n",
        "    model = Model(inputs=[inputA, inputB], outputs=output_layer)\n",
        "\n",
        "    return model\n",
        "\n",
        "\n",
        "# Create the Siamese LSTM network model\n",
        "model = siamese_lstm_network(max_seq_length, number_of_words, embedding_dim, embedding_matrix)\n",
        "model.compile(\n",
        "    loss='binary_crossentropy',\n",
        "    optimizer=optimizers.Adam(learning_rate=0.001),\n",
        "    metrics=['accuracy']\n",
        ")"
      ],
      "metadata": {
        "_cell_guid": "98fbe5cf-9971-4475-9346-0558aedc9f8d",
        "_uuid": "dcd0e247-757a-4861-931d-9fd92c2ebbb3",
        "jupyter": {
          "outputs_hidden": false
        },
        "papermill": {
          "duration": 4.875198,
          "end_time": "2023-09-09T19:11:14.454195",
          "exception": false,
          "start_time": "2023-09-09T19:11:09.578997",
          "status": "completed"
        },
        "tags": [],
        "execution": {
          "iopub.status.busy": "2023-11-29T14:43:47.378786Z",
          "iopub.execute_input": "2023-11-29T14:43:47.379194Z",
          "iopub.status.idle": "2023-11-29T14:43:50.597281Z",
          "shell.execute_reply.started": "2023-11-29T14:43:47.379160Z",
          "shell.execute_reply": "2023-11-29T14:43:50.596080Z"
        },
        "trusted": true,
        "id": "O6W-kqwLpK3N"
      },
      "execution_count": null,
      "outputs": [],
      "id": "O6W-kqwLpK3N"
    },
    {
      "cell_type": "code",
      "source": [
        "val_seq_q1 = tokenizer.texts_to_sequences(X_val['question1'].values)\n",
        "val_seq_q2 = tokenizer.texts_to_sequences(X_val['question2'].values)\n",
        "val_seq_q1 = pad_sequences(val_seq_q1, maxlen = max_seq_length)\n",
        "val_seq_q2 = pad_sequences(val_seq_q2, maxlen = max_seq_length)"
      ],
      "metadata": {
        "_cell_guid": "3cfb3ad3-44bc-4199-b990-0bbe4af6dfd6",
        "_uuid": "836765d0-f67d-4c5b-8ac8-883b87998fa9",
        "jupyter": {
          "outputs_hidden": false
        },
        "papermill": {
          "duration": 3.461898,
          "end_time": "2023-09-09T19:11:17.931995",
          "exception": false,
          "start_time": "2023-09-09T19:11:14.470097",
          "status": "completed"
        },
        "tags": [],
        "execution": {
          "iopub.status.busy": "2023-11-29T14:47:54.356428Z",
          "iopub.execute_input": "2023-11-29T14:47:54.356884Z",
          "iopub.status.idle": "2023-11-29T14:47:58.666401Z",
          "shell.execute_reply.started": "2023-11-29T14:47:54.356840Z",
          "shell.execute_reply": "2023-11-29T14:47:58.664917Z"
        },
        "trusted": true,
        "id": "oa_EeInipK3N"
      },
      "execution_count": null,
      "outputs": [],
      "id": "oa_EeInipK3N"
    },
    {
      "cell_type": "code",
      "source": [
        "# Fit the model\n",
        "batch_size = 512\n",
        "epochs = 20\n",
        "\n",
        "history = model.fit(\n",
        "    x=[seq_q1, seq_q2],  # Pairs of input sequences\n",
        "    y= y_train,\n",
        "    batch_size=batch_size,\n",
        "    epochs=epochs,\n",
        "    validation_data=([val_seq_q1, val_seq_q2], y_val)  # Validation data\n",
        ")"
      ],
      "metadata": {
        "_cell_guid": "52d6b4a9-3ed2-45f4-922f-3e088746bac9",
        "_uuid": "7434b4af-21e8-46ee-a2f8-fea05962effe",
        "execution": {
          "iopub.execute_input": "2023-09-09T19:11:17.965035Z",
          "iopub.status.busy": "2023-09-09T19:11:17.964722Z",
          "iopub.status.idle": "2023-09-09T19:57:51.444030Z",
          "shell.execute_reply": "2023-09-09T19:57:51.443008Z"
        },
        "jupyter": {
          "outputs_hidden": false
        },
        "papermill": {
          "duration": 2793.498056,
          "end_time": "2023-09-09T19:57:51.446418",
          "exception": false,
          "start_time": "2023-09-09T19:11:17.948362",
          "status": "completed"
        },
        "tags": [],
        "id": "euu6CcfBpK3N",
        "outputId": "594edcc9-31ea-4ebb-c626-d266dc53f7ab"
      },
      "execution_count": null,
      "outputs": [
        {
          "name": "stdout",
          "output_type": "stream",
          "text": "Epoch 1/20\n\n632/632 [==============================] - 158s 224ms/step - loss: 0.5551 - accuracy: 0.7080 - val_loss: 0.5167 - val_accuracy: 0.7370\n\nEpoch 2/20\n\n632/632 [==============================] - 139s 219ms/step - loss: 0.4893 - accuracy: 0.7555 - val_loss: 0.4716 - val_accuracy: 0.7666\n\nEpoch 3/20\n\n632/632 [==============================] - 129s 204ms/step - loss: 0.4551 - accuracy: 0.7770 - val_loss: 0.4483 - val_accuracy: 0.7810\n\nEpoch 4/20\n\n632/632 [==============================] - 139s 220ms/step - loss: 0.4305 - accuracy: 0.7930 - val_loss: 0.4405 - val_accuracy: 0.7871\n\nEpoch 5/20\n\n632/632 [==============================] - 139s 219ms/step - loss: 0.4119 - accuracy: 0.8037 - val_loss: 0.4290 - val_accuracy: 0.7965\n\nEpoch 6/20\n\n632/632 [==============================] - 139s 219ms/step - loss: 0.3971 - accuracy: 0.8122 - val_loss: 0.4232 - val_accuracy: 0.8004\n\nEpoch 7/20\n\n632/632 [==============================] - 129s 204ms/step - loss: 0.3818 - accuracy: 0.8217 - val_loss: 0.4141 - val_accuracy: 0.8057\n\nEpoch 8/20\n\n632/632 [==============================] - 138s 219ms/step - loss: 0.3687 - accuracy: 0.8289 - val_loss: 0.4098 - val_accuracy: 0.8080\n\nEpoch 9/20\n\n632/632 [==============================] - 139s 219ms/step - loss: 0.3546 - accuracy: 0.8367 - val_loss: 0.4097 - val_accuracy: 0.8085\n\nEpoch 10/20\n\n632/632 [==============================] - 138s 219ms/step - loss: 0.3422 - accuracy: 0.8439 - val_loss: 0.4119 - val_accuracy: 0.8115\n\nEpoch 11/20\n\n632/632 [==============================] - 138s 219ms/step - loss: 0.3293 - accuracy: 0.8509 - val_loss: 0.4114 - val_accuracy: 0.8121\n\nEpoch 12/20\n\n632/632 [==============================] - 138s 219ms/step - loss: 0.3171 - accuracy: 0.8569 - val_loss: 0.4136 - val_accuracy: 0.8115\n\nEpoch 13/20\n\n632/632 [==============================] - 139s 219ms/step - loss: 0.3048 - accuracy: 0.8640 - val_loss: 0.4155 - val_accuracy: 0.8140\n\nEpoch 14/20\n\n632/632 [==============================] - 138s 219ms/step - loss: 0.2936 - accuracy: 0.8696 - val_loss: 0.4245 - val_accuracy: 0.8145\n\nEpoch 15/20\n\n632/632 [==============================] - 138s 219ms/step - loss: 0.2816 - accuracy: 0.8761 - val_loss: 0.4214 - val_accuracy: 0.8176\n\nEpoch 16/20\n\n632/632 [==============================] - 139s 219ms/step - loss: 0.2702 - accuracy: 0.8824 - val_loss: 0.4290 - val_accuracy: 0.8165\n\nEpoch 17/20\n\n632/632 [==============================] - 138s 219ms/step - loss: 0.2595 - accuracy: 0.8879 - val_loss: 0.4406 - val_accuracy: 0.8164\n\nEpoch 18/20\n\n632/632 [==============================] - 138s 219ms/step - loss: 0.2483 - accuracy: 0.8936 - val_loss: 0.4413 - val_accuracy: 0.8158\n\nEpoch 19/20\n\n632/632 [==============================] - 128s 203ms/step - loss: 0.2375 - accuracy: 0.8985 - val_loss: 0.4703 - val_accuracy: 0.8122\n\nEpoch 20/20\n\n632/632 [==============================] - 128s 203ms/step - loss: 0.2276 - accuracy: 0.9034 - val_loss: 0.4630 - val_accuracy: 0.8155\n"
        }
      ],
      "id": "euu6CcfBpK3N"
    },
    {
      "cell_type": "code",
      "source": [
        "# Plot the training and validation accuracy over epochs\n",
        "plt.plot(history.history['accuracy'], label='Training Accuracy')\n",
        "plt.plot(history.history['val_accuracy'], label='Validation Accuracy')\n",
        "plt.xlabel('Epoch')\n",
        "plt.ylabel('Accuracy')\n",
        "plt.title('Training and Validation Accuracy')\n",
        "plt.legend()\n",
        "plt.show()"
      ],
      "metadata": {
        "execution": {
          "iopub.execute_input": "2023-09-09T19:57:55.804311Z",
          "iopub.status.busy": "2023-09-09T19:57:55.803564Z",
          "iopub.status.idle": "2023-09-09T19:57:56.123156Z",
          "shell.execute_reply": "2023-09-09T19:57:56.122269Z"
        },
        "papermill": {
          "duration": 1.310936,
          "end_time": "2023-09-09T19:57:56.125195",
          "exception": false,
          "start_time": "2023-09-09T19:57:54.814259",
          "status": "completed"
        },
        "tags": [],
        "id": "Kw68cozapK3N",
        "outputId": "ed1ae9aa-be9f-41db-dbf9-0f4e23d3cb21"
      },
      "execution_count": null,
      "outputs": [
        {
          "output_type": "display_data",
          "data": {
            "image/png": "[encoded data removed]",
            "text/plain": [
              "<Figure size 640x480 with 1 Axes>"
            ]
          },
          "metadata": {}
        }
      ],
      "id": "Kw68cozapK3N"
    },
    {
      "cell_type": "code",
      "source": [
        "# Plot the training and validation loss over epochs\n",
        "plt.plot(history.history['loss'], label='Training Loss')\n",
        "plt.plot(history.history['val_loss'], label='Validation Loss')\n",
        "plt.xlabel('Epoch')\n",
        "plt.ylabel('Loss')\n",
        "plt.title('Training and Validation Loss')\n",
        "plt.legend()\n",
        "plt.show()"
      ],
      "metadata": {
        "execution": {
          "iopub.execute_input": "2023-09-09T19:57:58.230268Z",
          "iopub.status.busy": "2023-09-09T19:57:58.229922Z",
          "iopub.status.idle": "2023-09-09T19:57:58.527583Z",
          "shell.execute_reply": "2023-09-09T19:57:58.526688Z"
        },
        "papermill": {
          "duration": 1.357224,
          "end_time": "2023-09-09T19:57:58.529662",
          "exception": false,
          "start_time": "2023-09-09T19:57:57.172438",
          "status": "completed"
        },
        "tags": [],
        "id": "G-N31zmSpK3N",
        "outputId": "77b81b7e-e999-426b-adef-9ec34c46eaa7"
      },
      "execution_count": null,
      "outputs": [
        {
          "output_type": "display_data",
          "data": {
            "image/png": "[encoded data removed]",
            "text/plain": [
              "<Figure size 640x480 with 1 Axes>"
            ]
          },
          "metadata": {}
        }
      ],
      "id": "G-N31zmSpK3N"
    },
    {
      "cell_type": "markdown",
      "source": [
        "# Model evaluation"
      ],
      "metadata": {
        "_cell_guid": "0552260a-0fc6-4de4-b2cc-8a134cef1994",
        "_uuid": "4a1aad08-f1ad-4fac-bb9a-ead9f2bc9bb2",
        "papermill": {
          "duration": 0.98999,
          "end_time": "2023-09-09T19:58:00.525914",
          "exception": false,
          "start_time": "2023-09-09T19:57:59.535924",
          "status": "completed"
        },
        "tags": [],
        "id": "qB3kjuLWpK3N"
      },
      "id": "qB3kjuLWpK3N"
    },
    {
      "cell_type": "code",
      "source": [
        "from sklearn.metrics import accuracy_score, precision_score, recall_score, f1_score, roc_auc_score, confusion_matrix, roc_curve, auc\n",
        "\n",
        "# Make predictions on validation data\n",
        "y_pred_probs = model.predict([val_seq_q1, val_seq_q2])\n",
        "\n",
        "# Choose a threshold for converting probabilities to binary predictions\n",
        "threshold = 0.5\n",
        "\n",
        "y_pred = (y_pred_probs > threshold).astype(int)\n",
        "\n",
        "\n",
        "# Calculate evaluation metrics\n",
        "accuracy = accuracy_score(y_val, y_pred)\n",
        "precision = precision_score(y_val, y_pred)\n",
        "recall = recall_score(y_val, y_pred)\n",
        "f1 = f1_score(y_val, y_pred)\n",
        "roc_auc = roc_auc_score(y_val, y_pred_probs)\n",
        "\n",
        "# Create a confusion matrix\n",
        "cm = confusion_matrix(y_val, y_pred)\n",
        "\n",
        "# Plot ROC curve\n",
        "fpr, tpr, thresholds = roc_curve(y_val, y_pred_probs)\n",
        "roc_auc = auc(fpr, tpr)\n",
        "\n",
        "plt.figure(figsize=(8, 6))\n",
        "plt.plot(fpr, tpr, color='darkorange', lw=2, label='ROC curve (area = %0.2f)' % roc_auc)\n",
        "plt.plot([0, 1], [0, 1], color='navy', lw=2, linestyle='--')\n",
        "plt.xlim([0.0, 1.0])\n",
        "plt.ylim([0.0, 1.05])\n",
        "plt.xlabel('False Positive Rate')\n",
        "plt.ylabel('True Positive Rate')\n",
        "plt.title('Receiver Operating Characteristic')\n",
        "plt.legend(loc=\"lower right\")\n",
        "plt.show()\n",
        "\n",
        "# Print evaluation metrics and confusion matrix\n",
        "print(\"Accuracy:\", accuracy)\n",
        "print(\"Precision:\", precision)\n",
        "print(\"Recall:\", recall)\n",
        "print(\"F1-score:\", f1)\n",
        "print(\"ROC-AUC:\", roc_auc)\n",
        "print(\"Confusion Matrix:\")\n",
        "print(cm)"
      ],
      "metadata": {
        "_cell_guid": "48423572-a0e6-4f39-b052-d3886927c7fe",
        "_uuid": "f81c246e-d131-469b-bf72-b21c0f76f043",
        "execution": {
          "iopub.execute_input": "2023-09-09T19:58:02.614203Z",
          "iopub.status.busy": "2023-09-09T19:58:02.613854Z",
          "iopub.status.idle": "2023-09-09T19:59:27.070129Z",
          "shell.execute_reply": "2023-09-09T19:59:27.069252Z"
        },
        "jupyter": {
          "outputs_hidden": false
        },
        "papermill": {
          "duration": 85.444686,
          "end_time": "2023-09-09T19:59:27.073172",
          "exception": false,
          "start_time": "2023-09-09T19:58:01.628486",
          "status": "completed"
        },
        "tags": [],
        "id": "BpL1dW4FpK3N",
        "outputId": "96ca3ecd-f10c-400a-cf2a-5827ee5e977b"
      },
      "execution_count": null,
      "outputs": [
        {
          "name": "stdout",
          "output_type": "stream",
          "text": "2527/2527 [==============================] - 82s 32ms/step\n"
        },
        {
          "output_type": "display_data",
          "data": {
            "image/png": "[encoded data removed]",
            "text/plain": [
              "<Figure size 800x600 with 1 Axes>"
            ]
          },
          "metadata": {}
        },
        {
          "name": "stdout",
          "output_type": "stream",
          "text": "Accuracy: 0.815540824655569\n\nPrecision: 0.7351281485451279\n\nRecall: 0.7816773934030571\n\nF1-score: 0.7576884960927981\n\nROC-AUC: 0.8924840083839495\n\nConfusion Matrix:\n\n[[42624  8402]\n\n [ 6513 23319]]\n"
        }
      ],
      "id": "BpL1dW4FpK3N"
    },
    {
      "cell_type": "code",
      "source": [
        "# Flatten y_pred if it's not already flattened\n",
        "y_pred = y_pred.flatten()\n",
        "predictions_df = pd.DataFrame({'Predicted': y_pred, 'GroundTruth': y_val})\n",
        "# Filter for incorrect predictions\n",
        "incorrect_predictions = (y_pred != y_val)\n",
        "incorrect_data = X_val[incorrect_predictions]\n",
        "\n",
        "# Concatenate the incorrect_data DataFrame with predictions_df\n",
        "incorrect_data_with_predictions = pd.concat([incorrect_data.reset_index(drop=True), predictions_df[incorrect_predictions].reset_index(drop=True)], axis=1)\n",
        "\n",
        "# Display the result\n",
        "pd.set_option('display.max_colwidth', 1000)\n",
        "incorrect_data_with_predictions\n"
      ],
      "metadata": {
        "execution": {
          "iopub.execute_input": "2023-09-09T19:59:29.381405Z",
          "iopub.status.busy": "2023-09-09T19:59:29.381036Z",
          "iopub.status.idle": "2023-09-09T19:59:29.404852Z",
          "shell.execute_reply": "2023-09-09T19:59:29.403965Z"
        },
        "papermill": {
          "duration": 1.174402,
          "end_time": "2023-09-09T19:59:29.406784",
          "exception": false,
          "start_time": "2023-09-09T19:59:28.232382",
          "status": "completed"
        },
        "tags": [],
        "id": "TFYHLFzapK3O",
        "outputId": "c16bf5bf-5164-492a-a8e8-b42c2af5a4a5"
      },
      "execution_count": null,
      "outputs": [
        {
          "execution_count": 32,
          "output_type": "execute_result",
          "data": {
            "text/html": [
              "<div>\n",
              "<style scoped>\n",
              "    .dataframe tbody tr th:only-of-type {\n",
              "        vertical-align: middle;\n",
              "    }\n",
              "\n",
              "    .dataframe tbody tr th {\n",
              "        vertical-align: top;\n",
              "    }\n",
              "\n",
              "    .dataframe thead th {\n",
              "        text-align: right;\n",
              "    }\n",
              "</style>\n",
              "<table border=\"1\" class=\"dataframe\">\n",
              "  <thead>\n",
              "    <tr style=\"text-align: right;\">\n",
              "      <th></th>\n",
              "      <th>question1</th>\n",
              "      <th>question2</th>\n",
              "      <th>Predicted</th>\n",
              "      <th>GroundTruth</th>\n",
              "    </tr>\n",
              "  </thead>\n",
              "  <tbody>\n",
              "    <tr>\n",
              "      <th>0</th>\n",
              "      <td>How do I play Pokémon GO in Korea?</td>\n",
              "      <td>How do I play Pokémon GO in China?</td>\n",
              "      <td>1</td>\n",
              "      <td>0</td>\n",
              "    </tr>\n",
              "    <tr>\n",
              "      <th>1</th>\n",
              "      <td>Is odd even scheme bad for Delhi?</td>\n",
              "      <td>Is ODD-EVEN scheme good for Delhi?</td>\n",
              "      <td>1</td>\n",
              "      <td>0</td>\n",
              "    </tr>\n",
              "    <tr>\n",
              "      <th>2</th>\n",
              "      <td>How much will I grow taller and why? I am 16 years old male, My height is 5' 3 inches, My dad's height is 5'10 and mom's height is 5' 2 inches ?</td>\n",
              "      <td>I am 27 year old male and my height is 5.3 inch and weight is 46 kg, How can I gain weight?</td>\n",
              "      <td>1</td>\n",
              "      <td>0</td>\n",
              "    </tr>\n",
              "    <tr>\n",
              "      <th>3</th>\n",
              "      <td>How do I find Pokémon in Pokémon GO?</td>\n",
              "      <td>How do I find Pokémon Eggs in Pokémon GO?</td>\n",
              "      <td>1</td>\n",
              "      <td>0</td>\n",
              "    </tr>\n",
              "    <tr>\n",
              "      <th>4</th>\n",
              "      <td>How do you cut your own hair?</td>\n",
              "      <td>Are you cheap if you cut your own hair?</td>\n",
              "      <td>1</td>\n",
              "      <td>0</td>\n",
              "    </tr>\n",
              "    <tr>\n",
              "      <th>...</th>\n",
              "      <td>...</td>\n",
              "      <td>...</td>\n",
              "      <td>...</td>\n",
              "      <td>...</td>\n",
              "    </tr>\n",
              "    <tr>\n",
              "      <th>14910</th>\n",
              "      <td>Is Area 51 real?</td>\n",
              "      <td>Area 51 is a real place, but what and where are numbers 1 to 50 and what do they do?</td>\n",
              "      <td>0</td>\n",
              "      <td>1</td>\n",
              "    </tr>\n",
              "    <tr>\n",
              "      <th>14911</th>\n",
              "      <td>What is the best way to prepare for BSNL TTA(JE) along with my full time job?</td>\n",
              "      <td>What is the best way to prepare for BSNL JE(TTA) along with my job?</td>\n",
              "      <td>1</td>\n",
              "      <td>0</td>\n",
              "    </tr>\n",
              "    <tr>\n",
              "      <th>14912</th>\n",
              "      <td>What should a person new to meditation concentrate on while meditating?</td>\n",
              "      <td>How can I stop becoming bored while meditating?</td>\n",
              "      <td>1</td>\n",
              "      <td>0</td>\n",
              "    </tr>\n",
              "    <tr>\n",
              "      <th>14913</th>\n",
              "      <td>How would you start a business as a 15 years old?</td>\n",
              "      <td>How do you start a successful business as a 15-year-old?</td>\n",
              "      <td>0</td>\n",
              "      <td>1</td>\n",
              "    </tr>\n",
              "    <tr>\n",
              "      <th>14914</th>\n",
              "      <td>Are elevators and escalators safe?</td>\n",
              "      <td>Are elevators and escalators in the US safe?</td>\n",
              "      <td>1</td>\n",
              "      <td>0</td>\n",
              "    </tr>\n",
              "  </tbody>\n",
              "</table>\n",
              "<p>14915 rows × 4 columns</p>\n",
              "</div>"
            ],
            "text/plain": [
              "                                                                                                                                              question1  \\\n",
              "0                                                                                                                    How do I play Pokémon GO in Korea?   \n",
              "1                                                                                                                     Is odd even scheme bad for Delhi?   \n",
              "2      How much will I grow taller and why? I am 16 years old male, My height is 5' 3 inches, My dad's height is 5'10 and mom's height is 5' 2 inches ?   \n",
              "3                                                                                                                  How do I find Pokémon in Pokémon GO?   \n",
              "4                                                                                                                         How do you cut your own hair?   \n",
              "...                                                                                                                                                 ...   \n",
              "14910                                                                                                                                  Is Area 51 real?   \n",
              "14911                                                                     What is the best way to prepare for BSNL TTA(JE) along with my full time job?   \n",
              "14912                                                                           What should a person new to meditation concentrate on while meditating?   \n",
              "14913                                                                                                 How would you start a business as a 15 years old?   \n",
              "14914                                                                                                                Are elevators and escalators safe?   \n",
              "\n",
              "                                                                                         question2  \\\n",
              "0                                                               How do I play Pokémon GO in China?   \n",
              "1                                                               Is ODD-EVEN scheme good for Delhi?   \n",
              "2      I am 27 year old male and my height is 5.3 inch and weight is 46 kg, How can I gain weight?   \n",
              "3                                                        How do I find Pokémon Eggs in Pokémon GO?   \n",
              "4                                                          Are you cheap if you cut your own hair?   \n",
              "...                                                                                            ...   \n",
              "14910         Area 51 is a real place, but what and where are numbers 1 to 50 and what do they do?   \n",
              "14911                          What is the best way to prepare for BSNL JE(TTA) along with my job?   \n",
              "14912                                              How can I stop becoming bored while meditating?   \n",
              "14913                                     How do you start a successful business as a 15-year-old?   \n",
              "14914                                                 Are elevators and escalators in the US safe?   \n",
              "\n",
              "       Predicted  GroundTruth  \n",
              "0              1            0  \n",
              "1              1            0  \n",
              "2              1            0  \n",
              "3              1            0  \n",
              "4              1            0  \n",
              "...          ...          ...  \n",
              "14910          0            1  \n",
              "14911          1            0  \n",
              "14912          1            0  \n",
              "14913          0            1  \n",
              "14914          1            0  \n",
              "\n",
              "[14915 rows x 4 columns]"
            ]
          },
          "metadata": {}
        }
      ],
      "id": "TFYHLFzapK3O"
    },
    {
      "cell_type": "markdown",
      "source": [
        "# Test with customized input"
      ],
      "metadata": {
        "_cell_guid": "851d4737-3c53-4839-9c8c-557600c91b69",
        "_uuid": "cc61032f-e831-4ada-9b8d-bd9bd3345b56",
        "papermill": {
          "duration": 1.138834,
          "end_time": "2023-09-09T19:59:31.627076",
          "exception": false,
          "start_time": "2023-09-09T19:59:30.488242",
          "status": "completed"
        },
        "tags": [],
        "id": "X0p2eWawpK3O"
      },
      "id": "X0p2eWawpK3O"
    },
    {
      "cell_type": "code",
      "source": [
        "raw_question1 = \"How do I bake a chocolate cake?\"\n",
        "raw_question2 = \"What are the steps to make a chocolate cake?\"\n",
        "\n",
        "# Convert to sequences\n",
        "seq_raw_question1 = tokenizer.texts_to_sequences([raw_question1])\n",
        "seq_raw_question2 = tokenizer.texts_to_sequences([raw_question2])\n",
        "\n",
        "# Pad sequences\n",
        "padded_question1 = pad_sequences(seq_raw_question1, maxlen=max_seq_length)\n",
        "padded_question2 = pad_sequences(seq_raw_question2, maxlen=max_seq_length)\n",
        "\n",
        "# Predict using the trained model\n",
        "raw_predictions = model.predict([padded_question1, padded_question2])\n",
        "\n",
        "# Choose a threshold for converting probabilities to binary predictions\n",
        "threshold = 0.5\n",
        "raw_prediction = (raw_predictions > threshold).astype(int)[0][0]\n",
        "\n",
        "if raw_prediction == 1:\n",
        "    print(\"The input question pair is duplicate.\")\n",
        "else:\n",
        "    print(\"The input question pair is not duplicate.\")\n"
      ],
      "metadata": {
        "_cell_guid": "0e7d543d-e011-4cfb-8884-da8f547da5cc",
        "_uuid": "1fab2fb8-44df-4f70-b3fd-471d5976b74e",
        "execution": {
          "iopub.execute_input": "2023-09-09T19:59:33.910775Z",
          "iopub.status.busy": "2023-09-09T19:59:33.909851Z",
          "iopub.status.idle": "2023-09-09T19:59:34.014908Z",
          "shell.execute_reply": "2023-09-09T19:59:34.013683Z"
        },
        "jupyter": {
          "outputs_hidden": false
        },
        "papermill": {
          "duration": 1.25563,
          "end_time": "2023-09-09T19:59:34.016989",
          "exception": false,
          "start_time": "2023-09-09T19:59:32.761359",
          "status": "completed"
        },
        "tags": [],
        "id": "nBcrZp_0pK3O",
        "outputId": "94337ca5-f66b-4d82-e401-03ef00620f42"
      },
      "execution_count": null,
      "outputs": [
        {
          "name": "stdout",
          "output_type": "stream",
          "text": "1/1 [==============================] - 0s 51ms/step\n\nThe input question pair is duplicate.\n"
        }
      ],
      "id": "nBcrZp_0pK3O"
    }
  ]
}