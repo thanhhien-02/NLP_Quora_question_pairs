{
  "cells": [
    {
      "cell_type": "markdown",
      "metadata": {
        "id": "1vGyi2OrqV04"
      },
      "source": [
        "# Import Packages"
      ]
    },
    {
      "cell_type": "code",
      "execution_count": null,
      "metadata": {
        "execution": {
          "iopub.execute_input": "2023-11-18T10:10:32.099677Z",
          "iopub.status.busy": "2023-11-18T10:10:32.099291Z",
          "iopub.status.idle": "2023-11-18T10:10:44.983492Z",
          "shell.execute_reply": "2023-11-18T10:10:44.982391Z",
          "shell.execute_reply.started": "2023-11-18T10:10:32.099646Z"
        },
        "id": "ZmwAGtcBqV05",
        "outputId": "4a63b9a5-ae91-4e98-c7b8-89848105dcae"
      },
      "outputs": [
        {
          "name": "stdout",
          "output_type": "stream",
          "text": [
            "Requirement already satisfied: seaborn in /opt/conda/lib/python3.10/site-packages (0.12.2)\n",
            "Requirement already satisfied: wordcloud in /opt/conda/lib/python3.10/site-packages (1.9.2)\n",
            "Requirement already satisfied: numpy!=1.24.0,>=1.17 in /opt/conda/lib/python3.10/site-packages (from seaborn) (1.24.3)\n",
            "Requirement already satisfied: pandas>=0.25 in /opt/conda/lib/python3.10/site-packages (from seaborn) (2.0.3)\n",
            "Requirement already satisfied: matplotlib!=3.6.1,>=3.1 in /opt/conda/lib/python3.10/site-packages (from seaborn) (3.7.3)\n",
            "Requirement already satisfied: pillow in /opt/conda/lib/python3.10/site-packages (from wordcloud) (10.1.0)\n",
            "Requirement already satisfied: contourpy>=1.0.1 in /opt/conda/lib/python3.10/site-packages (from matplotlib!=3.6.1,>=3.1->seaborn) (1.1.0)\n",
            "Requirement already satisfied: cycler>=0.10 in /opt/conda/lib/python3.10/site-packages (from matplotlib!=3.6.1,>=3.1->seaborn) (0.11.0)\n",
            "Requirement already satisfied: fonttools>=4.22.0 in /opt/conda/lib/python3.10/site-packages (from matplotlib!=3.6.1,>=3.1->seaborn) (4.42.1)\n",
            "Requirement already satisfied: kiwisolver>=1.0.1 in /opt/conda/lib/python3.10/site-packages (from matplotlib!=3.6.1,>=3.1->seaborn) (1.4.4)\n",
            "Requirement already satisfied: packaging>=20.0 in /opt/conda/lib/python3.10/site-packages (from matplotlib!=3.6.1,>=3.1->seaborn) (21.3)\n",
            "Requirement already satisfied: pyparsing>=2.3.1 in /opt/conda/lib/python3.10/site-packages (from matplotlib!=3.6.1,>=3.1->seaborn) (3.0.9)\n",
            "Requirement already satisfied: python-dateutil>=2.7 in /opt/conda/lib/python3.10/site-packages (from matplotlib!=3.6.1,>=3.1->seaborn) (2.8.2)\n",
            "Requirement already satisfied: pytz>=2020.1 in /opt/conda/lib/python3.10/site-packages (from pandas>=0.25->seaborn) (2023.3)\n",
            "Requirement already satisfied: tzdata>=2022.1 in /opt/conda/lib/python3.10/site-packages (from pandas>=0.25->seaborn) (2023.3)\n",
            "Requirement already satisfied: six>=1.5 in /opt/conda/lib/python3.10/site-packages (from python-dateutil>=2.7->matplotlib!=3.6.1,>=3.1->seaborn) (1.16.0)\n"
          ]
        }
      ],
      "source": [
        "!pip install seaborn wordcloud\n",
        "import numpy as np\n",
        "import pandas as pd\n",
        "import matplotlib.pyplot as plt\n",
        "import seaborn as sns\n",
        "import re # We use regular expressions for data cleaning\n",
        "import warnings\n",
        "warnings.filterwarnings('ignore')\n",
        "plt.style.use('ggplot')\n",
        "pd.set_option('display.max_colwidth', None)\n",
        "\n",
        "from wordcloud import WordCloud\n",
        "import warnings\n",
        "warnings.filterwarnings('ignore')\n",
        "\n",
        "from sklearn.metrics import jaccard_score\n",
        "from nltk.metrics import edit_distance\n",
        "from sklearn.feature_extraction.text import CountVectorizer\n",
        "from sklearn.model_selection import train_test_split\n",
        "import warnings\n",
        "warnings.filterwarnings(\"ignore\", category=UserWarning, module=\"tensorflow\")\n"
      ]
    },
    {
      "cell_type": "markdown",
      "metadata": {
        "id": "l3wMhy9mqV07"
      },
      "source": [
        "# Exploratory Data Analysis"
      ]
    },
    {
      "cell_type": "markdown",
      "metadata": {
        "id": "aMgEBOhNqV07"
      },
      "source": [
        "#### 1.Data Overview"
      ]
    },
    {
      "cell_type": "code",
      "execution_count": null,
      "metadata": {
        "execution": {
          "iopub.execute_input": "2023-11-18T10:10:44.985839Z",
          "iopub.status.busy": "2023-11-18T10:10:44.985287Z",
          "iopub.status.idle": "2023-11-18T10:10:46.521257Z",
          "shell.execute_reply": "2023-11-18T10:10:46.520152Z",
          "shell.execute_reply.started": "2023-11-18T10:10:44.985804Z"
        },
        "id": "3ZO6segWqV07"
      },
      "outputs": [],
      "source": [
        "Quora = pd.read_csv('/kaggle/input/quora-question-pairs/train.csv.zip')\n"
      ]
    },
    {
      "cell_type": "code",
      "execution_count": null,
      "metadata": {
        "execution": {
          "iopub.execute_input": "2023-11-18T10:10:46.523349Z",
          "iopub.status.busy": "2023-11-18T10:10:46.522641Z",
          "iopub.status.idle": "2023-11-18T10:10:46.690546Z",
          "shell.execute_reply": "2023-11-18T10:10:46.689578Z",
          "shell.execute_reply.started": "2023-11-18T10:10:46.523315Z"
        },
        "id": "rQKhhFiiqV07",
        "outputId": "3894a0b2-4ead-424a-cd6d-d6a0c037c29f"
      },
      "outputs": [
        {
          "name": "stdout",
          "output_type": "stream",
          "text": [
            "id              0\n",
            "qid1            0\n",
            "qid2            0\n",
            "question1       1\n",
            "question2       2\n",
            "is_duplicate    0\n",
            "dtype: int64\n"
          ]
        },
        {
          "data": {
            "text/html": [
              "<div>\n",
              "<style scoped>\n",
              "    .dataframe tbody tr th:only-of-type {\n",
              "        vertical-align: middle;\n",
              "    }\n",
              "\n",
              "    .dataframe tbody tr th {\n",
              "        vertical-align: top;\n",
              "    }\n",
              "\n",
              "    .dataframe thead th {\n",
              "        text-align: right;\n",
              "    }\n",
              "</style>\n",
              "<table border=\"1\" class=\"dataframe\">\n",
              "  <thead>\n",
              "    <tr style=\"text-align: right;\">\n",
              "      <th></th>\n",
              "      <th>id</th>\n",
              "      <th>qid1</th>\n",
              "      <th>qid2</th>\n",
              "      <th>question1</th>\n",
              "      <th>question2</th>\n",
              "      <th>is_duplicate</th>\n",
              "    </tr>\n",
              "  </thead>\n",
              "  <tbody>\n",
              "    <tr>\n",
              "      <th>0</th>\n",
              "      <td>0</td>\n",
              "      <td>1</td>\n",
              "      <td>2</td>\n",
              "      <td>What is the step by step guide to invest in share market in india?</td>\n",
              "      <td>What is the step by step guide to invest in share market?</td>\n",
              "      <td>0</td>\n",
              "    </tr>\n",
              "    <tr>\n",
              "      <th>1</th>\n",
              "      <td>1</td>\n",
              "      <td>3</td>\n",
              "      <td>4</td>\n",
              "      <td>What is the story of Kohinoor (Koh-i-Noor) Diamond?</td>\n",
              "      <td>What would happen if the Indian government stole the Kohinoor (Koh-i-Noor) diamond back?</td>\n",
              "      <td>0</td>\n",
              "    </tr>\n",
              "    <tr>\n",
              "      <th>2</th>\n",
              "      <td>2</td>\n",
              "      <td>5</td>\n",
              "      <td>6</td>\n",
              "      <td>How can I increase the speed of my internet connection while using a VPN?</td>\n",
              "      <td>How can Internet speed be increased by hacking through DNS?</td>\n",
              "      <td>0</td>\n",
              "    </tr>\n",
              "    <tr>\n",
              "      <th>3</th>\n",
              "      <td>3</td>\n",
              "      <td>7</td>\n",
              "      <td>8</td>\n",
              "      <td>Why am I mentally very lonely? How can I solve it?</td>\n",
              "      <td>Find the remainder when [math]23^{24}[/math] is divided by 24,23?</td>\n",
              "      <td>0</td>\n",
              "    </tr>\n",
              "    <tr>\n",
              "      <th>4</th>\n",
              "      <td>4</td>\n",
              "      <td>9</td>\n",
              "      <td>10</td>\n",
              "      <td>Which one dissolve in water quikly sugar, salt, methane and carbon di oxide?</td>\n",
              "      <td>Which fish would survive in salt water?</td>\n",
              "      <td>0</td>\n",
              "    </tr>\n",
              "    <tr>\n",
              "      <th>...</th>\n",
              "      <td>...</td>\n",
              "      <td>...</td>\n",
              "      <td>...</td>\n",
              "      <td>...</td>\n",
              "      <td>...</td>\n",
              "      <td>...</td>\n",
              "    </tr>\n",
              "    <tr>\n",
              "      <th>404285</th>\n",
              "      <td>404285</td>\n",
              "      <td>433578</td>\n",
              "      <td>379845</td>\n",
              "      <td>How many keywords are there in the Racket programming language of the latest version?</td>\n",
              "      <td>How many keywords are there in PERL Programming Language in the latest version?</td>\n",
              "      <td>0</td>\n",
              "    </tr>\n",
              "    <tr>\n",
              "      <th>404286</th>\n",
              "      <td>404286</td>\n",
              "      <td>18840</td>\n",
              "      <td>155606</td>\n",
              "      <td>Do you believe there is life after death?</td>\n",
              "      <td>Is it true that there is life after death?</td>\n",
              "      <td>1</td>\n",
              "    </tr>\n",
              "    <tr>\n",
              "      <th>404287</th>\n",
              "      <td>404287</td>\n",
              "      <td>537928</td>\n",
              "      <td>537929</td>\n",
              "      <td>What is one coin?</td>\n",
              "      <td>What's this coin?</td>\n",
              "      <td>0</td>\n",
              "    </tr>\n",
              "    <tr>\n",
              "      <th>404288</th>\n",
              "      <td>404288</td>\n",
              "      <td>537930</td>\n",
              "      <td>537931</td>\n",
              "      <td>What is the approx annual cost of living while studying in UIC Chicago, for an Indian student?</td>\n",
              "      <td>I am having little hairfall problem but I want to use hair styling product. Which one should I prefer out of gel, wax and clay?</td>\n",
              "      <td>0</td>\n",
              "    </tr>\n",
              "    <tr>\n",
              "      <th>404289</th>\n",
              "      <td>404289</td>\n",
              "      <td>537932</td>\n",
              "      <td>537933</td>\n",
              "      <td>What is like to have sex with cousin?</td>\n",
              "      <td>What is it like to have sex with your cousin?</td>\n",
              "      <td>0</td>\n",
              "    </tr>\n",
              "  </tbody>\n",
              "</table>\n",
              "<p>404287 rows × 6 columns</p>\n",
              "</div>"
            ],
            "text/plain": [
              "            id    qid1    qid2  \\\n",
              "0            0       1       2   \n",
              "1            1       3       4   \n",
              "2            2       5       6   \n",
              "3            3       7       8   \n",
              "4            4       9      10   \n",
              "...        ...     ...     ...   \n",
              "404285  404285  433578  379845   \n",
              "404286  404286   18840  155606   \n",
              "404287  404287  537928  537929   \n",
              "404288  404288  537930  537931   \n",
              "404289  404289  537932  537933   \n",
              "\n",
              "                                                                                             question1  \\\n",
              "0                                   What is the step by step guide to invest in share market in india?   \n",
              "1                                                  What is the story of Kohinoor (Koh-i-Noor) Diamond?   \n",
              "2                            How can I increase the speed of my internet connection while using a VPN?   \n",
              "3                                                   Why am I mentally very lonely? How can I solve it?   \n",
              "4                         Which one dissolve in water quikly sugar, salt, methane and carbon di oxide?   \n",
              "...                                                                                                ...   \n",
              "404285           How many keywords are there in the Racket programming language of the latest version?   \n",
              "404286                                                       Do you believe there is life after death?   \n",
              "404287                                                                               What is one coin?   \n",
              "404288  What is the approx annual cost of living while studying in UIC Chicago, for an Indian student?   \n",
              "404289                                                           What is like to have sex with cousin?   \n",
              "\n",
              "                                                                                                                              question2  \\\n",
              "0                                                                             What is the step by step guide to invest in share market?   \n",
              "1                                              What would happen if the Indian government stole the Kohinoor (Koh-i-Noor) diamond back?   \n",
              "2                                                                           How can Internet speed be increased by hacking through DNS?   \n",
              "3                                                                     Find the remainder when [math]23^{24}[/math] is divided by 24,23?   \n",
              "4                                                                                               Which fish would survive in salt water?   \n",
              "...                                                                                                                                 ...   \n",
              "404285                                                  How many keywords are there in PERL Programming Language in the latest version?   \n",
              "404286                                                                                       Is it true that there is life after death?   \n",
              "404287                                                                                                                What's this coin?   \n",
              "404288  I am having little hairfall problem but I want to use hair styling product. Which one should I prefer out of gel, wax and clay?   \n",
              "404289                                                                                    What is it like to have sex with your cousin?   \n",
              "\n",
              "        is_duplicate  \n",
              "0                  0  \n",
              "1                  0  \n",
              "2                  0  \n",
              "3                  0  \n",
              "4                  0  \n",
              "...              ...  \n",
              "404285             0  \n",
              "404286             1  \n",
              "404287             0  \n",
              "404288             0  \n",
              "404289             0  \n",
              "\n",
              "[404287 rows x 6 columns]"
            ]
          },
          "execution_count": 3,
          "metadata": {},
          "output_type": "execute_result"
        }
      ],
      "source": [
        "print(Quora.isna().sum())\n",
        "Quora.dropna(inplace=True)\n",
        "Quora"
      ]
    },
    {
      "cell_type": "markdown",
      "metadata": {
        "id": "lbTzx2tXqV07"
      },
      "source": [
        "#### 4.Correlation Analysis"
      ]
    },
    {
      "cell_type": "code",
      "execution_count": null,
      "metadata": {
        "execution": {
          "iopub.execute_input": "2023-11-12T21:36:34.796343Z",
          "iopub.status.busy": "2023-11-12T21:36:34.795854Z",
          "iopub.status.idle": "2023-11-12T21:43:29.155608Z",
          "shell.execute_reply": "2023-11-12T21:43:29.153919Z",
          "shell.execute_reply.started": "2023-11-12T21:36:34.796306Z"
        },
        "id": "32JQyLdaqV08",
        "outputId": "9c3d0035-8874-48a4-d3a7-fcbf480e5fd3"
      },
      "outputs": [
        {
          "name": "stdout",
          "output_type": "stream",
          "text": [
            "Jaccard Similarity between a fraction of duplicate questions: 1.0\n"
          ]
        }
      ],
      "source": [
        "from nltk.metrics import jaccard_distance\n",
        "from sklearn.feature_extraction.text import CountVectorizer\n",
        "import numpy as np\n",
        "\n",
        "# Assuming 'question1' and 'question2' are the columns in your DataFrame\n",
        "# and 'is_duplicate' is the column indicating whether the questions are duplicates or not.\n",
        "\n",
        "# Filter the DataFrame to include only rows where is_duplicate is 1\n",
        "duplicate_questions = Quora[Quora['is_duplicate'] == 1].sample(frac=1/3, random_state=42)  # Adjust the fraction and random_state as needed\n",
        "\n",
        "# Create a CountVectorizer\n",
        "vectorizer = CountVectorizer()\n",
        "vectorizer.fit(duplicate_questions['question1'] + duplicate_questions['question2'])\n",
        "\n",
        "# Vectorize the questions\n",
        "q1_vectorized = vectorizer.transform(duplicate_questions['question1'])\n",
        "q2_vectorized = vectorizer.transform(duplicate_questions['question2'])\n",
        "\n",
        "# Convert to binary format\n",
        "q1_binary = np.asarray(q1_vectorized.toarray(), dtype=bool).astype(int)\n",
        "q2_binary = np.asarray(q2_vectorized.toarray(), dtype=bool).astype(int)\n",
        "\n",
        "# Flatten the arrays\n",
        "q1_flat = q1_binary.ravel()\n",
        "q2_flat = q2_binary.ravel()\n",
        "\n",
        "# Calculate Jaccard similarity using NLTK\n",
        "jaccard_similarity = 1 - jaccard_distance(set(q1_flat), set(q2_flat))\n",
        "\n",
        "print(f\"Jaccard Similarity between a fraction of duplicate questions: {jaccard_similarity}\")\n"
      ]
    },
    {
      "cell_type": "markdown",
      "metadata": {
        "id": "p38CJcu8qV08"
      },
      "source": [
        "Jaccard Similarity score =1 indicates that the same vocabulary is shared between the two questions .  "
      ]
    },
    {
      "cell_type": "code",
      "execution_count": null,
      "metadata": {
        "execution": {
          "iopub.execute_input": "2023-11-17T13:27:15.471262Z",
          "iopub.status.busy": "2023-11-17T13:27:15.470291Z",
          "iopub.status.idle": "2023-11-17T13:34:35.655137Z",
          "shell.execute_reply": "2023-11-17T13:34:35.653192Z",
          "shell.execute_reply.started": "2023-11-17T13:27:15.471213Z"
        },
        "id": "_dKhnHa6qV08"
      },
      "outputs": [],
      "source": [
        "vectorizer = CountVectorizer()\n",
        "duplicate_questions = Quora[Quora['is_duplicate'] == 1].sample(frac=0.5)\n",
        "vectorizer.fit(duplicate_questions['question1'] + duplicate_questions['question2'])\n",
        "\n",
        "# Vectorize all questions\n",
        "all_questions_vectorized = vectorizer.transform(duplicate_questions['question1'] + duplicate_questions['question2']).toarray().astype(bool)\n",
        "\n",
        "# Reset index for proper alignment\n",
        "duplicate_questions = duplicate_questions.reset_index(drop=True)\n",
        "all_questions_vectorized_df = pd.DataFrame(all_questions_vectorized)\n",
        "\n",
        "jaccard_similarities = []\n",
        "levenshtein_distances = []\n",
        "\n",
        "for i in range(len(duplicate_questions)):\n",
        "    row_vectorized = vectorizer.transform([duplicate_questions['question1'][i] + duplicate_questions['question2'][i]]).toarray().astype(bool).ravel()\n",
        "\n",
        "    # Calculate Levenshtein distance\n",
        "    levenshtein_distance = edit_distance(duplicate_questions['question1'][i], duplicate_questions['question2'][i])\n",
        "    levenshtein_distances.append(levenshtein_distance)\n",
        "\n",
        "# Add Jaccard similarities and Levenshtein distances to the DataFrame\n",
        "duplicate_questions['levenshtein_distance'] = levenshtein_distances"
      ]
    },
    {
      "cell_type": "code",
      "execution_count": null,
      "metadata": {
        "execution": {
          "iopub.execute_input": "2023-11-17T13:34:35.659349Z",
          "iopub.status.busy": "2023-11-17T13:34:35.657956Z",
          "iopub.status.idle": "2023-11-17T13:34:35.704159Z",
          "shell.execute_reply": "2023-11-17T13:34:35.702924Z",
          "shell.execute_reply.started": "2023-11-17T13:34:35.659304Z"
        },
        "id": "xk5fA5DPqV08"
      },
      "outputs": [],
      "source": [
        "duplicate_questions['levenshtein_distance'] = levenshtein_distances"
      ]
    },
    {
      "cell_type": "code",
      "execution_count": null,
      "metadata": {
        "execution": {
          "iopub.execute_input": "2023-11-17T11:55:23.937621Z",
          "iopub.status.busy": "2023-11-17T11:55:23.936974Z",
          "iopub.status.idle": "2023-11-17T12:20:15.738626Z",
          "shell.execute_reply": "2023-11-17T12:20:15.737242Z",
          "shell.execute_reply.started": "2023-11-17T11:55:23.937563Z"
        },
        "id": "7wfewIfTqV09"
      },
      "outputs": [],
      "source": [
        "from sklearn.metrics import jaccard_score\n",
        "from sklearn.feature_extraction.text import CountVectorizer\n",
        "import numpy as np\n",
        "\n",
        "duplicate_questions = Quora[Quora['is_duplicate'] == 1]\n",
        "# Create a CountVectorizer\n",
        "vectorizer = CountVectorizer()\n",
        "vectorizer.fit(duplicate_questions['question1'] + duplicate_questions['question2'])\n",
        "\n",
        "# Vectorize all questions\n",
        "all_questions_vectorized = vectorizer.transform(duplicate_questions['question1'] + duplicate_questions['question2']).toarray().astype(bool)\n",
        "\n",
        "# Reset index for proper alignment\n",
        "duplicate_questions = duplicate_questions.reset_index(drop=True)\n",
        "all_questions_vectorized_df = pd.DataFrame(all_questions_vectorized)\n",
        "\n",
        "# Calculate Jaccard similarity between rows using scikit-learn\n",
        "jaccard_similarities = []\n",
        "\n",
        "for i in range(len(duplicate_questions)):\n",
        "    row_vectorized = vectorizer.transform([duplicate_questions['question1'][i] + duplicate_questions['question2'][i]]).toarray().astype(bool).ravel()\n",
        "\n",
        "    # Calculate Jaccard similarity\n",
        "    jaccard_similarity = jaccard_score(row_vectorized, all_questions_vectorized_df.loc[i], average='binary')\n",
        "    jaccard_similarities.append(jaccard_similarity)\n",
        "\n",
        "# Add Jaccard similarities to the DataFrame\n",
        "duplicate_questions['jaccard_similarity'] = jaccard_similarities\n"
      ]
    },
    {
      "cell_type": "code",
      "execution_count": null,
      "metadata": {
        "execution": {
          "iopub.execute_input": "2023-11-17T12:20:15.740983Z",
          "iopub.status.busy": "2023-11-17T12:20:15.740471Z",
          "iopub.status.idle": "2023-11-17T12:38:47.727572Z",
          "shell.execute_reply": "2023-11-17T12:38:47.725406Z",
          "shell.execute_reply.started": "2023-11-17T12:20:15.740933Z"
        },
        "id": "ApURAxV-qV09"
      },
      "outputs": [],
      "source": [
        "vectorizer = CountVectorizer()\n",
        "non_duplicate_questions = Quora[Quora['is_duplicate'] == 0].sample(frac=0.5,random_state=1)\n",
        "vectorizer.fit(non_duplicate_questions['question1'] + non_duplicate_questions['question2'])\n",
        "\n",
        "# Vectorize all questions\n",
        "all_questions_vectorized = vectorizer.transform(non_duplicate_questions['question1'] + non_duplicate_questions['question2']).toarray().astype(bool)\n",
        "\n",
        "# Reset index for proper alignment\n",
        "non_duplicate_questions = non_duplicate_questions.reset_index(drop=True)\n",
        "all_questions_vectorized_df = pd.DataFrame(all_questions_vectorized)\n",
        "\n",
        "jaccard_similarities = []\n",
        "levenshtein_distances = []\n",
        "\n",
        "for i in range(len(non_duplicate_questions)):\n",
        "    row_vectorized = vectorizer.transform([non_duplicate_questions['question1'][i] + non_duplicate_questions['question2'][i]]).toarray().astype(bool).ravel()\n",
        "\n",
        "    # Calculate Levenshtein distance\n",
        "    levenshtein_distance = edit_distance(non_duplicate_questions['question1'][i], non_duplicate_questions['question2'][i])\n",
        "    levenshtein_distances.append(levenshtein_distance)\n",
        "\n",
        "# Add Jaccard similarities and Levenshtein distances to the DataFrame\n",
        "non_duplicate_questions['levenshtein_distance'] = levenshtein_distances"
      ]
    },
    {
      "cell_type": "code",
      "execution_count": null,
      "metadata": {
        "execution": {
          "iopub.execute_input": "2023-11-17T13:34:35.706913Z",
          "iopub.status.busy": "2023-11-17T13:34:35.706073Z",
          "iopub.status.idle": "2023-11-17T13:34:37.453335Z",
          "shell.execute_reply": "2023-11-17T13:34:37.451612Z",
          "shell.execute_reply.started": "2023-11-17T13:34:35.706875Z"
        },
        "id": "C4NAaiw9qV09",
        "outputId": "be0a2776-91e3-48c5-926a-811454ebb08b"
      },
      "outputs": [
        {
          "data": {
            "image/png": "[encoded data removed]",
            "text/plain": [
              "<Figure size 640x480 with 1 Axes>"
            ]
          },
          "metadata": {},
          "output_type": "display_data"
        }
      ],
      "source": [
        "df_non_duplicate = non_duplicate_questions.groupby('is_duplicate')['levenshtein_distance'].agg(['min', 'max', 'median', 'mean', 'std'])\n",
        "df_duplicate = duplicate_questions.groupby('is_duplicate')['levenshtein_distance'].agg(['min', 'max', 'median', 'mean', 'std'])\n",
        "\n",
        "# Combine the results\n",
        "df_combined = df_non_duplicate.add(df_duplicate, fill_value=0)\n",
        "df_combined\n",
        "sns.distplot(non_duplicate_questions['levenshtein_distance'], bins=50, label='Non-Duplicate')\n",
        "sns.distplot(duplicate_questions['levenshtein_distance'], bins=50, label='Duplicate')\n",
        "\n",
        "# Add labels and legend\n",
        "plt.xlabel('Levenshtein Distance')\n",
        "plt.ylabel('Density')  # You may use 'Frequency' or 'Probability' depending on your preference\n",
        "plt.legend()\n",
        "\n",
        "# Show the plot\n",
        "plt.show()"
      ]
    },
    {
      "cell_type": "markdown",
      "metadata": {
        "id": "vM2ZZI2oqV09"
      },
      "source": [
        "The summary statistics for the **Levenshtein distance** between `non-duplicate` and `duplicate` questions are as follows. For `non-duplicate` questions, the Levenshtein distance ranges from 1 to 1051, with a median value of 38, mean value of approximately 46.46, and a standard deviation of about 35.98. The Levenshtein distances for `non-duplicate` questions tend to have higher variability compared to `duplicate questions`, as indicated by the larger standard deviation."
      ]
    },
    {
      "cell_type": "code",
      "execution_count": null,
      "metadata": {
        "execution": {
          "iopub.status.busy": "2023-11-17T12:38:48.181826Z",
          "iopub.status.idle": "2023-11-17T12:38:48.182434Z",
          "shell.execute_reply": "2023-11-17T12:38:48.182204Z",
          "shell.execute_reply.started": "2023-11-17T12:38:48.182162Z"
        },
        "id": "MZHj6w5aqV0-"
      },
      "outputs": [],
      "source": [
        "from scipy.stats import mannwhitneyu\n",
        "\n",
        "# Assuming df is your DataFrame with the 'levenshtein_distance' column\n",
        "levenshtein_values = duplicate_questions['levenshtein_distance']\n",
        "\n",
        "# Define the null hypothesis value (e.g., 0 if you are testing equality to 0)\n",
        "null_hypothesis_value = 10\n",
        "\n",
        "# Perform the Mann-Whitney U test\n",
        "u_statistic, p_value = mannwhitneyu(levenshtein_values, null_hypothesis_value, alternative='greater')\n",
        "\n",
        "# Print the results\n",
        "print(f\"U-statistic: {u_statistic}\")\n",
        "print(f\"P-value: {p_value}\")\n",
        "\n",
        "# Check the significance level (e.g., 0.05)\n",
        "if p_value < 0.1:\n",
        "    print(\"Reject the null hypothesis: Levenshtein distance is different from the null hypothesis value.\")\n",
        "else:\n",
        "    print(\"Fail to reject the null hypothesis: Levenshtein distance is equal to the null hypothesis value.\")"
      ]
    },
    {
      "cell_type": "code",
      "execution_count": null,
      "metadata": {
        "execution": {
          "iopub.status.busy": "2023-11-17T12:38:48.185454Z",
          "iopub.status.idle": "2023-11-17T12:38:48.186260Z",
          "shell.execute_reply": "2023-11-17T12:38:48.185930Z",
          "shell.execute_reply.started": "2023-11-17T12:38:48.185895Z"
        },
        "id": "idz3bbXnqV0-"
      },
      "outputs": [],
      "source": [
        "from scipy.stats import ttest_1samp\n",
        "\n",
        "# Assuming df is your DataFrame with the 'jaccard_similarity' column\n",
        "jaccard_values = duplicate_questions['jaccard_similarity']\n",
        "\n",
        "# Perform a one-sample t-test\n",
        "t_statistic, p_value = ttest_1samp(jaccard_values, 1)\n",
        "\n",
        "# Print the results\n",
        "print(f\"T-statistic: {t_statistic}\")\n",
        "print(f\"P-value: {p_value}\")\n",
        "\n",
        "# Check the significance level (e.g., 0.05)\n",
        "if p_value < 0.05:\n",
        "    print(\"Reject the null hypothesis: Jaccard similarity is different from 1.\")\n",
        "else:\n",
        "    print(\"Fail to reject the null hypothesis: Jaccard similarity is equal to 1.\")\n"
      ]
    }
  ],
  "metadata": {
    "kaggle": {
      "accelerator": "none",
      "dataSources": [
        {
          "databundleVersionId": 323734,
          "sourceId": 6277,
          "sourceType": "competition"
        }
      ],
      "dockerImageVersionId": 30579,
      "isGpuEnabled": false,
      "isInternetEnabled": true,
      "language": "python",
      "sourceType": "notebook"
    },
    "kernelspec": {
      "display_name": "Python 3",
      "language": "python",
      "name": "python3"
    },
    "language_info": {
      "codemirror_mode": {
        "name": "ipython",
        "version": 3
      },
      "file_extension": ".py",
      "mimetype": "text/x-python",
      "name": "python",
      "nbconvert_exporter": "python",
      "pygments_lexer": "ipython3",
      "version": "3.8.8"
    },
    "colab": {
      "provenance": []
    }
  },
  "nbformat": 4,
  "nbformat_minor": 0
}